{
 "cells": [
  {
   "cell_type": "code",
   "execution_count": 13,
   "id": "19290052",
   "metadata": {},
   "outputs": [
    {
     "name": "stdout",
     "output_type": "stream",
     "text": [
      "False\n"
     ]
    }
   ],
   "source": [
    "def findDog(input_string):\n",
    "    a = input_string\n",
    "\n",
    "    return 'dog' in a\n",
    "\n",
    "input_str = 'Is there a dog here?'\n",
    "result = findDog(input_str)\n",
    "\n",
    "print(result)\n",
    "\n"
   ]
  },
  {
   "cell_type": "code",
   "execution_count": null,
   "id": "d9705146",
   "metadata": {},
   "outputs": [],
   "source": []
  },
  {
   "cell_type": "code",
   "execution_count": null,
   "id": "40e7c083",
   "metadata": {},
   "outputs": [],
   "source": []
  },
  {
   "cell_type": "code",
   "execution_count": null,
   "id": "5c273d1b",
   "metadata": {},
   "outputs": [],
   "source": []
  },
  {
   "cell_type": "code",
   "execution_count": 14,
   "id": "0f78d932",
   "metadata": {},
   "outputs": [
    {
     "name": "stdout",
     "output_type": "stream",
     "text": [
      "['soup', 'salad']\n"
     ]
    }
   ],
   "source": [
    "seg = ['soup', 'dog', 'salad', 'cat', 'great']\n",
    "\n",
    "filtered_words = list(filter(lambda word: word.startswith('s'), seg))\n",
    "\n",
    "print(filtered_words)\n"
   ]
  },
  {
   "cell_type": "code",
   "execution_count": 15,
   "id": "8092bd98",
   "metadata": {},
   "outputs": [
    {
     "name": "stdout",
     "output_type": "stream",
     "text": [
      "For speed = 65, Birthday = True: No Ticket\n",
      "For speed = 85, Birthday = False: Big Ticket\n"
     ]
    }
   ],
   "source": [
    "def caught_speeding(speed, is_birthday):\n",
    "    if is_birthday:\n",
    "        speed -= 5\n",
    "\n",
    "    if speed <= 60:\n",
    "        return 'No Ticket'\n",
    "    elif 61 <= speed <= 80:\n",
    "        return 'Small Ticket'\n",
    "    else:\n",
    "        return 'Big Ticket'\n",
    "\n",
    "speed1 = 65\n",
    "birthday1 = True\n",
    "result1 = caught_speeding(speed1, birthday1)\n",
    "print(f\"For speed = {speed1}, Birthday = {birthday1}: {result1}\")\n",
    "\n",
    "speed2 = 85\n",
    "birthday2 = False\n",
    "result2 = caught_speeding(speed2, birthday2)\n",
    "print(f\"For speed = {speed2}, Birthday = {birthday2}: {result2}\")\n"
   ]
  },
  {
   "cell_type": "code",
   "execution_count": 2,
   "id": "232af8c5",
   "metadata": {},
   "outputs": [
    {
     "name": "stdout",
     "output_type": "stream",
     "text": [
      "Enter the speed: 90\n",
      "Is it your birthday? (yes/no): no\n",
      "For speed = 90, Birthday = False: Big Ticket\n"
     ]
    }
   ],
   "source": [
    "def caught_speeding(speed, is_birthday):\n",
    "    if is_birthday:\n",
    "        speed -= 5\n",
    "\n",
    "    if speed <= 60:\n",
    "        return 'No Ticket'\n",
    "    elif 61 <= speed <= 80:\n",
    "        return 'Small Ticket'\n",
    "    else:\n",
    "        return 'Big Ticket'\n",
    "\n",
    "speed_input = int(input(\"Enter the speed: \"))\n",
    "birthday_input = input(\"Is it your birthday? (yes/no): \").lower()\n",
    "\n",
    "is_birthday_input = birthday_input == 'yes'\n",
    "\n",
    "result = caught_speeding(speed_input, is_birthday_input)\n",
    "\n",
    "print(f\"For speed = {speed_input}, Birthday = {is_birthday_input}: {result}\")\n"
   ]
  },
  {
   "cell_type": "code",
   "execution_count": 14,
   "id": "895acaf9",
   "metadata": {},
   "outputs": [
    {
     "name": "stdout",
     "output_type": "stream",
     "text": [
      "Enter your Roll No. : 53\n",
      "Enter your Name : jefh\n",
      "Marks obtained in Physics : 90\n",
      "Marks obtained in Chemistry : 90\n",
      "Marks obtained in Math : 90\n",
      "Total Marks : 270\n",
      "Distinction\n"
     ]
    }
   ],
   "source": [
    "rollNo = int(input(\"Enter your Roll No. : \"))\n",
    "studentName = (input(\"Enter your Name : \"))\n",
    "physics = int(input(\"Marks obtained in Physics : \"))\n",
    "chemistry = int(input(\"Marks obtained in Chemistry : \"))\n",
    "math = int(input(\"Marks obtained in Math : \"))\n",
    "\n",
    "totalMarks = physics + chemistry + math;\n",
    "print(\"Total Marks :\",totalMarks)\n",
    "\n",
    "percentage = totalMarks/3\n",
    "\n",
    "if percentage >40 and percentage <=50 :\n",
    "    print(\"Pass\")\n",
    "elif percentage >51 and percentage <=60:\n",
    "    print(\"Second Class\")\n",
    "elif percentage >61 and percentage <=70:\n",
    "    print(\"First Class\")\n",
    "elif percentage >70:\n",
    "    print(\"Distinction\")     \n",
    "    \n",
    "else:\n",
    "    print(\"Fail, better luck next time\")"
   ]
  },
  {
   "cell_type": "code",
   "execution_count": null,
   "id": "b0f82e6c",
   "metadata": {},
   "outputs": [],
   "source": [
    "class Student:\n",
    "    course = 'BCA'\n",
    "    def __init__(self):\n",
    "        print('default constructor')\n",
    "        \n",
    "    def __init__(self,name,mob):\n",
    "        self.name=name\n",
    "        self.mob=mob\n",
    "        print(name,\" 's mobile no. is\",mob)\n",
    "        \n",
    "        "
   ]
  },
  {
   "cell_type": "code",
   "execution_count": 11,
   "id": "bee474a5",
   "metadata": {},
   "outputs": [],
   "source": [
    "import math\n",
    "\n"
   ]
  },
  {
   "cell_type": "code",
   "execution_count": 9,
   "id": "4ed7c156",
   "metadata": {},
   "outputs": [
    {
     "name": "stdout",
     "output_type": "stream",
     "text": [
      "Prime numbers between 2 and 50:\n",
      "2\n",
      "3\n",
      "5\n",
      "7\n",
      "11\n",
      "13\n",
      "17\n",
      "19\n",
      "23\n",
      "29\n",
      "31\n",
      "37\n",
      "41\n",
      "43\n",
      "47\n"
     ]
    }
   ],
   "source": [
    "def is_prime(n):\n",
    "    \n",
    " if n <= 1:\n",
    "   return False\n",
    " for i in range(2, int(n**0.5) + 1):\n",
    "   if n % i == 0:\n",
    "     return False\n",
    " return True\n",
    "\n",
    "def print_prime_numbers(start, end):\n",
    "\n",
    " for num in range(start, end + 1):\n",
    "   if is_prime(num):\n",
    "     print(num)\n",
    "\n",
    "start = 2\n",
    "end = 50\n",
    "\n",
    "print(f\"Prime numbers between {start} and {end}:\")\n",
    "print_prime_numbers(start, end)"
   ]
  },
  {
   "cell_type": "code",
   "execution_count": 3,
   "id": "1dbea3dd",
   "metadata": {},
   "outputs": [
    {
     "name": "stdout",
     "output_type": "stream",
     "text": [
      "Enter a number: 11\n",
      "Enter the range of the table : 7\n",
      "Multiplication table of 11\n",
      "11 x 1 = 11\n",
      "11 x 2 = 22\n",
      "11 x 3 = 33\n",
      "11 x 4 = 44\n",
      "11 x 5 = 55\n",
      "11 x 6 = 66\n",
      "11 x 7 = 77\n"
     ]
    }
   ],
   "source": [
    "num = int(input(\"Enter a number: \"))\n",
    "l = int(input(\"Enter the range of the table : \"))\n",
    "print(\"Multiplication table of\", num)\n",
    "\n",
    "for i in range(1, l+1):\n",
    " product = num * i\n",
    " print(f\"{num} x {i} = {product}\")"
   ]
  },
  {
   "cell_type": "code",
   "execution_count": 2,
   "id": "400e98d0",
   "metadata": {},
   "outputs": [
    {
     "name": "stdout",
     "output_type": "stream",
     "text": [
      "How many terms? 5\n",
      "Fibonacci sequence:\n",
      "0\n",
      "1\n",
      "1\n",
      "2\n",
      "3\n"
     ]
    }
   ],
   "source": [
    "def fibonacci_recursive(n):\n",
    "\n",
    "    if n <= 1:\n",
    "        return n\n",
    "    else:\n",
    "        return fibonacci_recursive(n - 1) + fibonacci_recursive(n - 2)\n",
    "\n",
    "nterms = int(input(\"How many terms? \"))\n",
    "\n",
    "if nterms <= 0:\n",
    "    print(\"Please enter a positive integer.\")\n",
    "else:\n",
    "    print(\"Fibonacci sequence:\")\n",
    "    for i in range(nterms):\n",
    "        print(fibonacci_recursive(i))"
   ]
  },
  {
   "cell_type": "code",
   "execution_count": 52,
   "id": "ba920d0f",
   "metadata": {},
   "outputs": [
    {
     "name": "stdout",
     "output_type": "stream",
     "text": [
      "Net salary is: 121250.0\n"
     ]
    }
   ],
   "source": [
    "class Employee:\n",
    "    def __init__(self, empid, name, basic_salary, experience_years):\n",
    "        self.empid = empid\n",
    "        self.name = name\n",
    "        self.basic_salary = basic_salary\n",
    "        self.experience_years = experience_years\n",
    "        self.hra = 0\n",
    "        self.da = 0\n",
    "        self.pf = 0\n",
    "        self.bonus = 0\n",
    "        self.net_salary = 0\n",
    "\n",
    "    def calculate_hra(self):\n",
    "        self.hra = 0.35 * self.basic_salary\n",
    "\n",
    "    def calculate_da(self):\n",
    "        self.da = 0.58 * self.basic_salary\n",
    "\n",
    "    def calculate_pf(self):\n",
    "        self.pf = 0.095 * self.basic_salary\n",
    "\n",
    "    def calculate_bonus(self):\n",
    "        if self.experience_years >= 30:\n",
    "            self.bonus = 0.59 * self.basic_salary\n",
    "        elif self.experience_years >= 23:\n",
    "            self.bonus = 0.51 * self.basic_salary\n",
    "        elif self.experience_years >= 15:\n",
    "            self.bonus = 0.45 * self.basic_salary\n",
    "        elif self.experience_years >= 7:\n",
    "            self.bonus = 0.33 * self.basic_salary\n",
    "        else:\n",
    "            self.bonus = 0.16 * self.basic_salary\n",
    "\n",
    "    def calculate_net_salary(self):\n",
    "        self.calculate_hra()\n",
    "        self.calculate_da()\n",
    "        self.calculate_pf()\n",
    "        self.calculate_bonus()\n",
    "        self.net_salary = self.basic_salary + self.da + self.hra - self.pf + self.bonus\n",
    "\n",
    "if __name__ == '__main__':\n",
    "    salaryCalc = Employee(10, \"vivek\", 50000, 30)\n",
    "    salaryCalc.calculate_net_salary()\n",
    "    print(f'Net salary is: {salaryCalc.net_salary}')\n"
   ]
  },
  {
   "cell_type": "code",
   "execution_count": null,
   "id": "dc8a41f8",
   "metadata": {},
   "outputs": [],
   "source": []
  },
  {
   "cell_type": "code",
   "execution_count": null,
   "id": "8b314369",
   "metadata": {},
   "outputs": [],
   "source": [
    "n = int(input(\"Enter Array Length:\"))\n",
    "lst = []\n",
    "newLst = []\n",
    "for i in range(0,n):\n",
    "    newNum = int(input(\"num:\"))\n",
    "    lst.append(newNum)\n",
    "print(\"old List\")    \n",
    "print(lst)\n",
    "for i in range(0,int(n/2)):\n",
    "    b=lst[i] + lst[n-1-i]\n",
    "    newLst.append(b)\n",
    "print(\"New List\")    \n",
    "print(newLst)"
   ]
  },
  {
   "cell_type": "code",
   "execution_count": 11,
   "id": "74ed32ad",
   "metadata": {},
   "outputs": [
    {
     "name": "stdout",
     "output_type": "stream",
     "text": [
      "7\n",
      "10\n",
      "The Power is: 343\n",
      "The conca is: 73\n",
      "The Max is: 7\n",
      "The Min is: 3\n"
     ]
    }
   ],
   "source": [
    "class Operations:\n",
    "    def __init__(self, num):\n",
    "        self.num = num\n",
    "\n",
    "    def getNum(self):\n",
    "        return self.num\n",
    "\n",
    "    def add(self, n2):\n",
    "        return self.num + n2.num\n",
    "\n",
    "    def power(self, n2):\n",
    "        return self.num ** n2.num\n",
    "\n",
    "    def conca(self, n2):\n",
    "        return int(str(self.num) + str(n2.num))\n",
    "\n",
    "    def Max(self, n2):\n",
    "        return max(self.num, n2.num)\n",
    "\n",
    "    def Min(self, n2):\n",
    "        return min(self.num, n2.num)\n",
    "\n",
    "\n",
    "n1 = Operations(7)\n",
    "n2 = Operations(3)\n",
    "print(n1.getNum())\n",
    "\n",
    "n3 = n1.add(n2)\n",
    "print(n3)\n",
    "\n",
    "n3 = n1.power(n2)\n",
    "print(\"The Power is:\", n3)\n",
    "\n",
    "n3 = n1.conca(n2)\n",
    "print(\"The conca is:\", n3)\n",
    "\n",
    "n3 = n1.Max(n2)\n",
    "print(\"The Max is:\", n3)\n",
    "\n",
    "n3 = n1.Min(n2)\n",
    "print(\"The Min is:\", n3)\n"
   ]
  },
  {
   "cell_type": "code",
   "execution_count": null,
   "id": "542a0ce5",
   "metadata": {},
   "outputs": [],
   "source": []
  },
  {
   "cell_type": "code",
   "execution_count": 4,
   "id": "c7001d11",
   "metadata": {},
   "outputs": [
    {
     "name": "stdout",
     "output_type": "stream",
     "text": [
      "enter the email here: Jiya@nuv.ac.in\n",
      "(4567, 'Jiya', 'Jiya@nuv.ac.in')\n"
     ]
    }
   ],
   "source": [
    "Id = [(12345,\"Diksha\",\"Diksha@nuv.ac.in\"),(4567,\"Jiya\",\"Jiya@nuv.ac.in\"),\n",
    "      (6789,\"Ronit\",\"Ronit@nuv.ac.in\"),(69433,\"Heena\",\"Heena@nuv.ac.in\")]\n",
    "\n",
    "#Id_no = int(input(\"Enter Your ID No. : \"))\n",
    "\n",
    "# name=str(input(\"enter the name here: \"))\n",
    "\n",
    "email=str(input(\"enter the email here: \"))\n",
    "\n",
    "\n",
    "# def searchById():\n",
    "#     for i in range(0,len(Id)):\n",
    "#         if(Id[i][0]== Id_no):\n",
    "#             print(Id[i])\n",
    "\n",
    "# def searchByName():\n",
    "#     for i in range(0,len(Id)):\n",
    "#          if(Id[i][1]== name):\n",
    "#              print(Id[i])\n",
    "\n",
    "def searchByEmail():\n",
    "     for i in range(0,len(Id)):\n",
    "           if(Id[i][2]== email):\n",
    "               print(Id[i])\n",
    "            \n",
    "# searchById()     \n",
    "# searchByName()\n",
    "searchByEmail()"
   ]
  },
  {
   "cell_type": "code",
   "execution_count": 11,
   "id": "9316a280",
   "metadata": {},
   "outputs": [
    {
     "name": "stdout",
     "output_type": "stream",
     "text": [
      "Enter search type (ID, Name, or Email): Name\n",
      "Enter Student Name: Jiva\n",
      "Enrollment ID: 45687\n",
      "Student Name: Jiva\n",
      "Email ID: Jiya@nuv.ac.in\n"
     ]
    }
   ],
   "source": [
    "# LAB 3 Q.1\n",
    "enrollment_id = [12345, 45687, 16789, 69433]\n",
    "student_name = [\"Diksha\", \"Jiva\", \"Ronit\", \"Heena\"]\n",
    "email_id = [\"Diksha@nuv.ac.in\", \"Jiya@nuv.ac.in\", \"Ronit@nuv.ac.in\", \"Heena@nuv.ac.in\"]\n",
    "\n",
    "student_data = {}\n",
    "\n",
    "for i in range(len(enrollment_id)):\n",
    "    student_data[enrollment_id[i]] = {'Student Name': student_name[i], 'Email ID': email_id[i]}\n",
    "\n",
    "def search_by_id(search_id):\n",
    "    if search_id in student_data:\n",
    "        data = student_data[search_id]\n",
    "        print(f\"Student Name: {data['Student Name']}\")\n",
    "        print(f\"Email ID: {data['Email ID']}\")\n",
    "    \n",
    "\n",
    "def search_by_name(search_name):\n",
    "    found = False\n",
    "    for enrollment_id, data in student_data.items():\n",
    "        if data['Student Name'].lower() == search_name.lower():\n",
    "            found = True\n",
    "            print(f\"Enrollment ID: {enrollment_id}\")\n",
    "            print(f\"Email ID: {data['Email ID']}\")\n",
    "   \n",
    "\n",
    "def search_by_email(search_email):\n",
    "    found = False\n",
    "    for enrollment_id, data in student_data.items():\n",
    "        if data['Email ID'].lower() == search_email.lower():\n",
    "            found = True\n",
    "            print(f\"Enrollment ID: {enrollment_id}\")\n",
    "            print(f\"Student Name: {data['Student Name']}\")\n",
    "    \n",
    "search_type = input(\"Enter search type (ID, Name, or Email): \")\n",
    "\n",
    "if search_type == 'id':\n",
    "    search_value = int(input(\"Enter Enrollment ID: \"))\n",
    "    search_by_id(search_value)\n",
    "elif search_type == 'name':\n",
    "    search_value = input(\"Enter Student Name: \")\n",
    "    search_by_name(search_value)\n",
    "elif search_type == 'email':\n",
    "    search_value = input(\"Enter Email ID: \")\n",
    "    search_by_email(search_value)"
   ]
  },
  {
   "cell_type": "code",
   "execution_count": 16,
   "id": "7ed971e4",
   "metadata": {},
   "outputs": [
    {
     "name": "stdout",
     "output_type": "stream",
     "text": [
      "{'key 1': [12345, 4567, 6789, 69433], 'key 2': ['Diksha', 'Jiya', 'Ronit', 'Heena'], 'key 3': ['Diksha@nuv.ac.in', 'Jiya@nuv.ac.in', 'Ronit@nuv.ac.in', 'Heena@nuv.ac.in']}\n"
     ]
    }
   ],
   "source": [
    "# LAB 3 Q.2\n",
    "data = [(12345, \"Diksha\", \"Diksha@nuv.ac.in\"), (4567, \"Jiya\", \"Jiya@nuv.ac.in\"),\n",
    "        (6789, \"Ronit\", \"Ronit@nuv.ac.in\"), (69433, \"Heena\", \"Heena@nuv.ac.in\")]\n",
    "\n",
    "Dict = {\"key 1\": [],\n",
    "        \"key 2\": [],\n",
    "        \"key 3\": []}\n",
    "\n",
    "for i in data:\n",
    "    Dict[\"key 1\"].append(i[0])\n",
    "    Dict[\"key 2\"].append(i[1])\n",
    "    Dict[\"key 3\"].append(i[2])\n",
    "\n",
    "print(Dict)\n"
   ]
  },
  {
   "cell_type": "code",
   "execution_count": 4,
   "id": "45db4734",
   "metadata": {},
   "outputs": [
    {
     "name": "stdout",
     "output_type": "stream",
     "text": [
      "{'ID': [12345, 4567, 6789, 69433], 'Name': ['Diksha', 'Jiya', 'Ronit', 'Heena'], 'Email': ['Diksha@nuv.ac.in', 'Jiya@nuv.ac.in', 'Ronit@nuv.ac.in', 'Heena@nuv.ac.in']}\n"
     ]
    }
   ],
   "source": [
    "# LAB 3 Q.3\n",
    "data = [(12345, \"Diksha\", \"Diksha@nuv.ac.in\"), (4567, \"Jiya\", \"Jiya@nuv.ac.in\"),\n",
    "        (6789, \"Ronit\", \"Ronit@nuv.ac.in\"), (69433, \"Heena\", \"Heena@nuv.ac.in\")]\n",
    "\n",
    "disc = {\n",
    "        \"ID\" : [],\n",
    "        \"Name\" : [],\n",
    "        \"Email\" : [],\n",
    "       }\n",
    "for i in data :\n",
    "    disc[\"ID\"].append(i[0])\n",
    "    disc[\"Name\"].append(i[1])\n",
    "    disc[\"Email\"].append(i[2])\n",
    "print(disc)   \n",
    "\n"
   ]
  },
  {
   "cell_type": "code",
   "execution_count": 1,
   "id": "a6d7d971",
   "metadata": {},
   "outputs": [
    {
     "name": "stdout",
     "output_type": "stream",
     "text": [
      "{'name': 'Hina', 'roll no.': 553, 'cgpa': 7.99, 'phone number': 123456789}\n"
     ]
    }
   ],
   "source": [
    "# LAB 3 Q.4\n",
    "\n",
    "import json \n",
    "d = {\n",
    "     \"name\": \"Hina\",\n",
    "     \"roll no.\": 553,\n",
    "     \"cgpa\" : 7.99,\n",
    "     \"phone number\" : 123456789,\n",
    "}\n",
    "# append data in file\n",
    "# f = open(\"BCAStudent.json\",\"a\")\n",
    "# jsondata = json.dump(d,indent=4)\n",
    "# f.write(jsondata)\n",
    "# # # to write in file\n",
    "# f = open(\"BCAStudent.json\",\"w\")\n",
    "# jsondata = json.dumps(d,indent=4)\n",
    "# f.write(jsondata)\n",
    "# read data from file\n",
    "f = open(\"BCAStudent.json\",\"r\")\n",
    "jsondata = json.load(f)\n",
    "print(jsondata)"
   ]
  },
  {
   "cell_type": "code",
   "execution_count": 4,
   "id": "fac1cef3",
   "metadata": {},
   "outputs": [
    {
     "data": {
      "text/html": [
       "<div>\n",
       "<style scoped>\n",
       "    .dataframe tbody tr th:only-of-type {\n",
       "        vertical-align: middle;\n",
       "    }\n",
       "\n",
       "    .dataframe tbody tr th {\n",
       "        vertical-align: top;\n",
       "    }\n",
       "\n",
       "    .dataframe thead th {\n",
       "        text-align: right;\n",
       "    }\n",
       "</style>\n",
       "<table border=\"1\" class=\"dataframe\">\n",
       "  <thead>\n",
       "    <tr style=\"text-align: right;\">\n",
       "      <th></th>\n",
       "      <th>StateId</th>\n",
       "      <th>Name</th>\n",
       "      <th>Population in Crore</th>\n",
       "      <th>No. of Universities</th>\n",
       "    </tr>\n",
       "  </thead>\n",
       "  <tbody>\n",
       "    <tr>\n",
       "      <th>0</th>\n",
       "      <td>12001</td>\n",
       "      <td>Gujarat</td>\n",
       "      <td>10</td>\n",
       "      <td>29</td>\n",
       "    </tr>\n",
       "    <tr>\n",
       "      <th>1</th>\n",
       "      <td>12002</td>\n",
       "      <td>Maharashtra</td>\n",
       "      <td>19</td>\n",
       "      <td>36</td>\n",
       "    </tr>\n",
       "    <tr>\n",
       "      <th>2</th>\n",
       "      <td>12003</td>\n",
       "      <td>Rajasthan</td>\n",
       "      <td>13</td>\n",
       "      <td>31</td>\n",
       "    </tr>\n",
       "    <tr>\n",
       "      <th>3</th>\n",
       "      <td>12004</td>\n",
       "      <td>Madhy Pradesh</td>\n",
       "      <td>14</td>\n",
       "      <td>21</td>\n",
       "    </tr>\n",
       "    <tr>\n",
       "      <th>4</th>\n",
       "      <td>12005</td>\n",
       "      <td>Punjab</td>\n",
       "      <td>12</td>\n",
       "      <td>13</td>\n",
       "    </tr>\n",
       "    <tr>\n",
       "      <th>5</th>\n",
       "      <td>12006</td>\n",
       "      <td>Karnataka</td>\n",
       "      <td>23</td>\n",
       "      <td>31</td>\n",
       "    </tr>\n",
       "    <tr>\n",
       "      <th>6</th>\n",
       "      <td>12007</td>\n",
       "      <td>Tamilnadu</td>\n",
       "      <td>25</td>\n",
       "      <td>29</td>\n",
       "    </tr>\n",
       "    <tr>\n",
       "      <th>7</th>\n",
       "      <td>1208</td>\n",
       "      <td>Kerala</td>\n",
       "      <td>21</td>\n",
       "      <td>15</td>\n",
       "    </tr>\n",
       "  </tbody>\n",
       "</table>\n",
       "</div>"
      ],
      "text/plain": [
       "   StateId           Name   Population in Crore   No. of Universities\n",
       "0    12001        Gujarat                    10                    29\n",
       "1    12002    Maharashtra                    19                    36\n",
       "2    12003      Rajasthan                    13                    31\n",
       "3    12004  Madhy Pradesh                    14                    21\n",
       "4    12005         Punjab                    12                    13\n",
       "5    12006      Karnataka                    23                    31\n",
       "6    12007      Tamilnadu                    25                    29\n",
       "7     1208         Kerala                    21                    15"
      ]
     },
     "execution_count": 4,
     "metadata": {},
     "output_type": "execute_result"
    }
   ],
   "source": [
    "# LAB 3 Q.5\n",
    "\n",
    "import pandas as pd\n",
    "df=pd.read_csv(\"data.csv\")\n",
    "df"
   ]
  },
  {
   "cell_type": "code",
   "execution_count": 11,
   "id": "47e8d871",
   "metadata": {},
   "outputs": [
    {
     "name": "stdout",
     "output_type": "stream",
     "text": [
      "['StateId', ' Name', ' Population in Crore', ' No. of Universities']\n"
     ]
    },
    {
     "data": {
      "text/plain": [
       "{12001: {' Name': 'Gujarat',\n",
       "  ' Population in Crore': 10,\n",
       "  ' No. of Universities': 29},\n",
       " 12002: {' Name': 'Maharashtra',\n",
       "  ' Population in Crore': 19,\n",
       "  ' No. of Universities': 36},\n",
       " 12003: {' Name': 'Rajasthan',\n",
       "  ' Population in Crore': 13,\n",
       "  ' No. of Universities': 31},\n",
       " 12004: {' Name': 'Madhy Pradesh',\n",
       "  ' Population in Crore': 14,\n",
       "  ' No. of Universities': 21},\n",
       " 12005: {' Name': 'Punjab',\n",
       "  ' Population in Crore': 12,\n",
       "  ' No. of Universities': 13},\n",
       " 12006: {' Name': 'Karnataka',\n",
       "  ' Population in Crore': 23,\n",
       "  ' No. of Universities': 31},\n",
       " 12007: {' Name': 'Tamilnadu',\n",
       "  ' Population in Crore': 25,\n",
       "  ' No. of Universities': 29},\n",
       " 1208: {' Name': 'Kerala',\n",
       "  ' Population in Crore': 21,\n",
       "  ' No. of Universities': 15}}"
      ]
     },
     "execution_count": 11,
     "metadata": {},
     "output_type": "execute_result"
    }
   ],
   "source": [
    "\n",
    "import pandas as pd\n",
    "df=pd.read_csv(\"data.csv\")\n",
    "keys = list(df.keys())\n",
    "\n",
    "value=list(df.values)\n",
    "print(keys)\n",
    "states = {}\n",
    "for d in value:\n",
    "    states[d[0]]={\n",
    "        keys[1]:d[1],\n",
    "        keys[2]:d[2],\n",
    "        keys[3]:d[3]\n",
    "    }\n",
    "    \n",
    "states    \n",
    "    "
   ]
  },
  {
   "cell_type": "code",
   "execution_count": 2,
   "id": "97ee0af5",
   "metadata": {},
   "outputs": [],
   "source": [
    "import numpy as np\n"
   ]
  },
  {
   "cell_type": "code",
   "execution_count": 4,
   "id": "113911a9",
   "metadata": {},
   "outputs": [
    {
     "data": {
      "text/plain": [
       "array([[ 0,  1,  2,  3,  4],\n",
       "       [ 5,  6,  7,  8,  9],\n",
       "       [10, 11, 12, 13, 14],\n",
       "       [15, 16, 17, 18, 19],\n",
       "       [20, 21, 22, 23, 24]])"
      ]
     },
     "execution_count": 4,
     "metadata": {},
     "output_type": "execute_result"
    }
   ],
   "source": [
    "a = np.arange(0,25).reshape(5,5)\n",
    "a"
   ]
  },
  {
   "cell_type": "code",
   "execution_count": 5,
   "id": "af6931b5",
   "metadata": {},
   "outputs": [
    {
     "data": {
      "text/plain": [
       "array([[[0., 0.],\n",
       "        [0., 0.]],\n",
       "\n",
       "       [[0., 0.],\n",
       "        [0., 0.]],\n",
       "\n",
       "       [[0., 0.],\n",
       "        [0., 0.]]])"
      ]
     },
     "execution_count": 5,
     "metadata": {},
     "output_type": "execute_result"
    }
   ],
   "source": [
    "np.zeros(12).reshape(3,2,2)"
   ]
  },
  {
   "cell_type": "code",
   "execution_count": 6,
   "id": "f3b4cd81",
   "metadata": {},
   "outputs": [
    {
     "data": {
      "text/plain": [
       "array([1., 0., 0., 0., 0., 0., 1., 0., 0., 0., 0., 0., 1., 0., 0., 0., 0.,\n",
       "       0., 1., 0., 0., 0., 0., 0., 1.])"
      ]
     },
     "execution_count": 6,
     "metadata": {},
     "output_type": "execute_result"
    }
   ],
   "source": [
    "np.eye(5).reshape(25)"
   ]
  },
  {
   "cell_type": "code",
   "execution_count": 7,
   "id": "5ea03abf",
   "metadata": {},
   "outputs": [
    {
     "data": {
      "text/plain": [
       "array([1., 0., 0., 0., 0., 0., 1., 0., 0., 0., 0., 0., 1., 0., 0., 0., 0.,\n",
       "       0., 1., 0., 0., 0., 0., 0., 1.])"
      ]
     },
     "execution_count": 7,
     "metadata": {},
     "output_type": "execute_result"
    }
   ],
   "source": [
    "np.eye(5).ravel()"
   ]
  },
  {
   "cell_type": "code",
   "execution_count": 4,
   "id": "2d07f065",
   "metadata": {},
   "outputs": [
    {
     "ename": "NameError",
     "evalue": "name 'np' is not defined",
     "output_type": "error",
     "traceback": [
      "\u001b[1;31m---------------------------------------------------------------------------\u001b[0m",
      "\u001b[1;31mNameError\u001b[0m                                 Traceback (most recent call last)",
      "Cell \u001b[1;32mIn[4], line 1\u001b[0m\n\u001b[1;32m----> 1\u001b[0m mat \u001b[38;5;241m=\u001b[39m np\u001b[38;5;241m.\u001b[39marange(\u001b[38;5;241m1\u001b[39m,\u001b[38;5;241m10\u001b[39m)\u001b[38;5;241m.\u001b[39mreshape(\u001b[38;5;241m3\u001b[39m,\u001b[38;5;241m3\u001b[39m)\n\u001b[0;32m      2\u001b[0m mat\n",
      "\u001b[1;31mNameError\u001b[0m: name 'np' is not defined"
     ]
    }
   ],
   "source": []
  },
  {
   "cell_type": "code",
   "execution_count": 5,
   "id": "5fa0e880",
   "metadata": {},
   "outputs": [
    {
     "ename": "NameError",
     "evalue": "name 'np' is not defined",
     "output_type": "error",
     "traceback": [
      "\u001b[1;31m---------------------------------------------------------------------------\u001b[0m",
      "\u001b[1;31mNameError\u001b[0m                                 Traceback (most recent call last)",
      "Cell \u001b[1;32mIn[5], line 1\u001b[0m\n\u001b[1;32m----> 1\u001b[0m np\u001b[38;5;241m.\u001b[39mvsplit(mat,\u001b[38;5;241m3\u001b[39m)\n",
      "\u001b[1;31mNameError\u001b[0m: name 'np' is not defined"
     ]
    }
   ],
   "source": [
    "np.vsplit(mat,3)"
   ]
  },
  {
   "cell_type": "code",
   "execution_count": 2,
   "id": "4fd39335",
   "metadata": {},
   "outputs": [],
   "source": [
    "import numpy as np\n"
   ]
  },
  {
   "cell_type": "code",
   "execution_count": 4,
   "id": "6c3ec03e",
   "metadata": {},
   "outputs": [
    {
     "data": {
      "text/plain": [
       "array([[1, 2],\n",
       "       [3, 4]])"
      ]
     },
     "execution_count": 4,
     "metadata": {},
     "output_type": "execute_result"
    }
   ],
   "source": [
    "mat = np.arange(1,5).reshape(2,2)\n",
    "mat"
   ]
  },
  {
   "cell_type": "code",
   "execution_count": 6,
   "id": "7236c9b2",
   "metadata": {},
   "outputs": [
    {
     "data": {
      "text/plain": [
       "[array([[1, 2]]), array([[3, 4]])]"
      ]
     },
     "execution_count": 6,
     "metadata": {},
     "output_type": "execute_result"
    }
   ],
   "source": [
    "np.vsplit(mat,2)"
   ]
  },
  {
   "cell_type": "code",
   "execution_count": 11,
   "id": "908b37a6",
   "metadata": {},
   "outputs": [
    {
     "data": {
      "text/plain": [
       "array([[5., 4., 4., 4.],\n",
       "       [4., 5., 4., 4.],\n",
       "       [4., 4., 5., 4.],\n",
       "       [4., 4., 4., 5.]])"
      ]
     },
     "execution_count": 11,
     "metadata": {},
     "output_type": "execute_result"
    }
   ],
   "source": [
    "np.eye(4)+4"
   ]
  },
  {
   "cell_type": "code",
   "execution_count": 12,
   "id": "9c18da0c",
   "metadata": {},
   "outputs": [
    {
     "data": {
      "text/plain": [
       "[array([[1],\n",
       "        [4],\n",
       "        [7]]),\n",
       " array([[2],\n",
       "        [5],\n",
       "        [8]]),\n",
       " array([[3],\n",
       "        [6],\n",
       "        [9]])]"
      ]
     },
     "execution_count": 12,
     "metadata": {},
     "output_type": "execute_result"
    }
   ],
   "source": [
    "np.hsplit(mat,3)"
   ]
  },
  {
   "cell_type": "code",
   "execution_count": 15,
   "id": "8bcadb24",
   "metadata": {},
   "outputs": [],
   "source": [
    "farr=np.random.uniform(1,20,5)"
   ]
  },
  {
   "cell_type": "code",
   "execution_count": 16,
   "id": "724d3029",
   "metadata": {},
   "outputs": [
    {
     "data": {
      "text/plain": [
       "array([ 2.72648691,  9.05466918, 13.27584147,  8.06970081, 19.49558356])"
      ]
     },
     "execution_count": 16,
     "metadata": {},
     "output_type": "execute_result"
    }
   ],
   "source": [
    "farr"
   ]
  },
  {
   "cell_type": "code",
   "execution_count": null,
   "id": "93329f25",
   "metadata": {},
   "outputs": [],
   "source": []
  },
  {
   "cell_type": "code",
   "execution_count": null,
   "id": "b9bb2f30",
   "metadata": {},
   "outputs": [],
   "source": []
  },
  {
   "cell_type": "code",
   "execution_count": null,
   "id": "cb109965",
   "metadata": {},
   "outputs": [],
   "source": []
  },
  {
   "cell_type": "code",
   "execution_count": null,
   "id": "e4d6d190",
   "metadata": {},
   "outputs": [],
   "source": []
  },
  {
   "cell_type": "code",
   "execution_count": 17,
   "id": "1f5b85a9",
   "metadata": {},
   "outputs": [
    {
     "data": {
      "text/plain": [
       "array([ 3., 10., 14.,  9., 20.])"
      ]
     },
     "execution_count": 17,
     "metadata": {},
     "output_type": "execute_result"
    }
   ],
   "source": [
    "np.ceil(farr)"
   ]
  },
  {
   "cell_type": "code",
   "execution_count": 18,
   "id": "15d018dd",
   "metadata": {},
   "outputs": [
    {
     "data": {
      "text/plain": [
       "array([ 2.,  9., 13.,  8., 19.])"
      ]
     },
     "execution_count": 18,
     "metadata": {},
     "output_type": "execute_result"
    }
   ],
   "source": [
    "np.floor(farr)"
   ]
  },
  {
   "cell_type": "code",
   "execution_count": 19,
   "id": "6b6e5847",
   "metadata": {},
   "outputs": [
    {
     "data": {
      "text/plain": [
       "array([ 2.73,  9.05, 13.28,  8.07, 19.5 ])"
      ]
     },
     "execution_count": 19,
     "metadata": {},
     "output_type": "execute_result"
    }
   ],
   "source": [
    "np.round(farr,decimals=2)"
   ]
  },
  {
   "cell_type": "markdown",
   "id": "9a1874e5",
   "metadata": {},
   "source": [
    "mat1 = np.arange(1,26).reshape(5,5)\n",
    "mat1"
   ]
  },
  {
   "cell_type": "code",
   "execution_count": 24,
   "id": "00694ba1",
   "metadata": {},
   "outputs": [
    {
     "data": {
      "text/plain": [
       "array([[ 1,  2,  3,  4,  5],\n",
       "       [ 6,  7,  8,  9, 10],\n",
       "       [11, 12, 13, 14, 15],\n",
       "       [16, 17, 18, 19, 20],\n",
       "       [21, 22, 23, 24, 25]])"
      ]
     },
     "execution_count": 24,
     "metadata": {},
     "output_type": "execute_result"
    }
   ],
   "source": [
    "far = np.arange(1,26).reshape(5,5)\n",
    "far"
   ]
  },
  {
   "cell_type": "code",
   "execution_count": 33,
   "id": "451bbb80",
   "metadata": {},
   "outputs": [
    {
     "data": {
      "text/plain": [
       "array([1, 2, 3, 4, 5])"
      ]
     },
     "execution_count": 33,
     "metadata": {},
     "output_type": "execute_result"
    }
   ],
   "source": [
    "np.min(far,axis=0)"
   ]
  },
  {
   "cell_type": "code",
   "execution_count": 34,
   "id": "df9c3727",
   "metadata": {},
   "outputs": [
    {
     "data": {
      "text/plain": [
       "array([21, 22, 23, 24, 25])"
      ]
     },
     "execution_count": 34,
     "metadata": {},
     "output_type": "execute_result"
    }
   ],
   "source": [
    "np.max(far,axis=0)"
   ]
  },
  {
   "cell_type": "code",
   "execution_count": 35,
   "id": "5d66e820",
   "metadata": {},
   "outputs": [
    {
     "data": {
      "text/plain": [
       "array([7.07106781, 7.07106781, 7.07106781, 7.07106781, 7.07106781])"
      ]
     },
     "execution_count": 35,
     "metadata": {},
     "output_type": "execute_result"
    }
   ],
   "source": [
    "np.std(far,axis=0)"
   ]
  },
  {
   "cell_type": "code",
   "execution_count": 37,
   "id": "3023332d",
   "metadata": {},
   "outputs": [
    {
     "data": {
      "text/plain": [
       "array([0., 1., 2., 3., 4., 5., 6., 7., 8., 9.])"
      ]
     },
     "execution_count": 37,
     "metadata": {},
     "output_type": "execute_result"
    }
   ],
   "source": [
    "np.arange(0,10,dtype=float)"
   ]
  },
  {
   "cell_type": "code",
   "execution_count": 38,
   "id": "725ed26a",
   "metadata": {},
   "outputs": [],
   "source": [
    "null_vectors = np.arange(1,11, dtype = float)"
   ]
  },
  {
   "cell_type": "code",
   "execution_count": 39,
   "id": "5046de73",
   "metadata": {},
   "outputs": [
    {
     "data": {
      "text/plain": [
       "array([ 1.,  2.,  3.,  4.,  5.,  6.,  7.,  8.,  9., 10.])"
      ]
     },
     "execution_count": 39,
     "metadata": {},
     "output_type": "execute_result"
    }
   ],
   "source": [
    "null_vectors"
   ]
  },
  {
   "cell_type": "code",
   "execution_count": 40,
   "id": "134ca67e",
   "metadata": {},
   "outputs": [],
   "source": [
    "null_vectors[:]='NAN'"
   ]
  },
  {
   "cell_type": "code",
   "execution_count": 41,
   "id": "1db1daff",
   "metadata": {},
   "outputs": [
    {
     "data": {
      "text/plain": [
       "array([nan, nan, nan, nan, nan, nan, nan, nan, nan, nan])"
      ]
     },
     "execution_count": 41,
     "metadata": {},
     "output_type": "execute_result"
    }
   ],
   "source": [
    "null_vectors"
   ]
  },
  {
   "cell_type": "code",
   "execution_count": 42,
   "id": "988a43b3",
   "metadata": {},
   "outputs": [],
   "source": [
    "null_vectors[6]=200"
   ]
  },
  {
   "cell_type": "code",
   "execution_count": 43,
   "id": "6bb5ed4f",
   "metadata": {},
   "outputs": [
    {
     "data": {
      "text/plain": [
       "array([ nan,  nan,  nan,  nan,  nan,  nan, 200.,  nan,  nan,  nan])"
      ]
     },
     "execution_count": 43,
     "metadata": {},
     "output_type": "execute_result"
    }
   ],
   "source": [
    "null_vectors"
   ]
  },
  {
   "cell_type": "code",
   "execution_count": 46,
   "id": "691089a4",
   "metadata": {},
   "outputs": [],
   "source": [
    "dar = np.arange(100,151)"
   ]
  },
  {
   "cell_type": "code",
   "execution_count": 47,
   "id": "863c7cc6",
   "metadata": {},
   "outputs": [
    {
     "data": {
      "text/plain": [
       "array([100, 101, 102, 103, 104, 105, 106, 107, 108, 109, 110, 111, 112,\n",
       "       113, 114, 115, 116, 117, 118, 119, 120, 121, 122, 123, 124, 125,\n",
       "       126, 127, 128, 129, 130, 131, 132, 133, 134, 135, 136, 137, 138,\n",
       "       139, 140, 141, 142, 143, 144, 145, 146, 147, 148, 149, 150])"
      ]
     },
     "execution_count": 47,
     "metadata": {},
     "output_type": "execute_result"
    }
   ],
   "source": [
    "dar"
   ]
  },
  {
   "cell_type": "code",
   "execution_count": 48,
   "id": "f6dc8639",
   "metadata": {},
   "outputs": [
    {
     "data": {
      "text/plain": [
       "array([150, 149, 148, 147, 146, 145, 144, 143, 142, 141, 140, 139, 138,\n",
       "       137, 136, 135, 134, 133, 132, 131, 130, 129, 128, 127, 126, 125,\n",
       "       124, 123, 122, 121, 120, 119, 118, 117, 116, 115, 114, 113, 112,\n",
       "       111, 110, 109, 108, 107, 106, 105, 104, 103, 102, 101, 100])"
      ]
     },
     "execution_count": 48,
     "metadata": {},
     "output_type": "execute_result"
    }
   ],
   "source": [
    "np.flip(dar)"
   ]
  },
  {
   "cell_type": "code",
   "execution_count": 54,
   "id": "b25df4b6",
   "metadata": {},
   "outputs": [],
   "source": [
    "a1 = np.array([1,0,2,0,0,4,0, 8])"
   ]
  },
  {
   "cell_type": "code",
   "execution_count": 55,
   "id": "f1f34516",
   "metadata": {},
   "outputs": [
    {
     "data": {
      "text/plain": [
       "(array([0, 2, 5, 7], dtype=int64),)"
      ]
     },
     "execution_count": 55,
     "metadata": {},
     "output_type": "execute_result"
    }
   ],
   "source": [
    "np.where(a1>0)"
   ]
  },
  {
   "cell_type": "code",
   "execution_count": null,
   "id": "77beb750",
   "metadata": {},
   "outputs": [],
   "source": []
  },
  {
   "cell_type": "code",
   "execution_count": 62,
   "id": "73f501eb",
   "metadata": {},
   "outputs": [],
   "source": [
    "a2 = np.ones([10,10])"
   ]
  },
  {
   "cell_type": "code",
   "execution_count": 64,
   "id": "03cd4635",
   "metadata": {},
   "outputs": [
    {
     "data": {
      "text/plain": [
       "array([[1., 1., 1., 1., 1., 1., 1., 1., 1., 1.],\n",
       "       [1., 0., 0., 0., 0., 0., 0., 0., 0., 1.],\n",
       "       [1., 0., 0., 0., 0., 0., 0., 0., 0., 1.],\n",
       "       [1., 0., 0., 0., 0., 0., 0., 0., 0., 1.],\n",
       "       [1., 0., 0., 0., 0., 0., 0., 0., 0., 1.],\n",
       "       [1., 0., 0., 0., 0., 0., 0., 0., 0., 1.],\n",
       "       [1., 0., 0., 0., 0., 0., 0., 0., 0., 1.],\n",
       "       [1., 0., 0., 0., 0., 0., 0., 0., 0., 1.],\n",
       "       [1., 0., 0., 0., 0., 0., 0., 0., 0., 1.],\n",
       "       [1., 1., 1., 1., 1., 1., 1., 1., 1., 1.]])"
      ]
     },
     "execution_count": 64,
     "metadata": {},
     "output_type": "execute_result"
    }
   ],
   "source": [
    "a2[1:9,1:9]=0\n",
    "a2"
   ]
  },
  {
   "cell_type": "code",
   "execution_count": null,
   "id": "d13fa9a3",
   "metadata": {},
   "outputs": [],
   "source": []
  },
  {
   "cell_type": "code",
   "execution_count": null,
   "id": "723e6b1f",
   "metadata": {},
   "outputs": [],
   "source": []
  },
  {
   "cell_type": "code",
   "execution_count": null,
   "id": "46978cdf",
   "metadata": {},
   "outputs": [],
   "source": []
  }
 ],
 "metadata": {
  "kernelspec": {
   "display_name": "Python 3 (ipykernel)",
   "language": "python",
   "name": "python3"
  },
  "language_info": {
   "codemirror_mode": {
    "name": "ipython",
    "version": 3
   },
   "file_extension": ".py",
   "mimetype": "text/x-python",
   "name": "python",
   "nbconvert_exporter": "python",
   "pygments_lexer": "ipython3",
   "version": "3.11.5"
  }
 },
 "nbformat": 4,
 "nbformat_minor": 5
}
